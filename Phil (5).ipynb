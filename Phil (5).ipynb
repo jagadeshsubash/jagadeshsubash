{
 "cells": [
  {
   "cell_type": "code",
   "execution_count": 7,
   "id": "a7d59749-3b90-4669-8aed-8cad81832f14",
   "metadata": {
    "tags": []
   },
   "outputs": [
    {
     "ename": "SyntaxError",
     "evalue": "cannot assign to attribute here. Maybe you meant '==' instead of '='? (2918569183.py, line 4)",
     "output_type": "error",
     "traceback": [
      "\u001b[0;36m  Input \u001b[0;32mIn [7]\u001b[0;36m\u001b[0m\n\u001b[0;31m    self.name = name;\u001b[0m\n\u001b[0m    ^\u001b[0m\n\u001b[0;31mSyntaxError\u001b[0m\u001b[0;31m:\u001b[0m cannot assign to attribute here. Maybe you meant '==' instead of '='?\n"
     ]
    }
   ],
   "source": [
    "class Philosophers :\n",
    "   def __init__(self,name,country,year,work) :  \n",
    "       self.name = name;\n",
    "       self.country = country;\n",
    "       self.year = year;\n",
    "       self.work = work;\n",
    " magnus = Philosophers(\"Alberto Magnus\",\"German\",\"1240,\"\"teacher\")\n",
    "  print(magus.name);\n",
    "                      "
   ]
  },
  {
   "cell_type": "code",
   "execution_count": null,
   "id": "9db7369a-6178-4485-ae19-c9a1a721acb1",
   "metadata": {},
   "outputs": [],
   "source": []
  },
  {
   "cell_type": "code",
   "execution_count": null,
   "id": "fd89dab0-abb9-49d2-b7db-6fd2adb80760",
   "metadata": {},
   "outputs": [],
   "source": []
  }
 ],
 "metadata": {
  "kernelspec": {
   "display_name": "Python 3 (ipykernel)",
   "language": "python",
   "name": "python3"
  },
  "language_info": {
   "codemirror_mode": {
    "name": "ipython",
    "version": 3
   },
   "file_extension": ".py",
   "mimetype": "text/x-python",
   "name": "python",
   "nbconvert_exporter": "python",
   "pygments_lexer": "ipython3",
   "version": "3.10.2"
  }
 },
 "nbformat": 4,
 "nbformat_minor": 5
}
